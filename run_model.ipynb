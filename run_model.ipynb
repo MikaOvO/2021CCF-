{
<<<<<<< Updated upstream
  "nbformat": 4,
  "nbformat_minor": 5,
  "metadata": {
    "colab": {
      "name": "Model.ipynb",
      "provenance": [],
      "collapsed_sections": []
    },
    "kernelspec": {
      "display_name": "Python 3",
      "language": "python",
      "name": "python3"
    },
    "language_info": {
      "codemirror_mode": {
        "name": "ipython",
        "version": 3
      },
      "file_extension": ".py",
      "mimetype": "text/x-python",
      "name": "python",
      "nbconvert_exporter": "python",
      "pygments_lexer": "ipython3",
      "version": "3.8.8"
    }
  },
  "cells": [
    {
      "cell_type": "code",
      "metadata": {
        "colab": {
          "base_uri": "https://localhost:8080/"
        },
        "id": "9584ce9f",
        "outputId": "f92d6b61-dd18-4039-a685-467a768b7e8a"
      },
      "source": [
        "import pandas as pd\n",
        "import numpy as np\n",
        "import os\n",
        "import time, datetime\n",
        "import math\n",
        "import random\n",
        "from sklearn import preprocessing\n",
        "import torch\n",
        "from sklearn.model_selection import KFold\n",
        "import matplotlib.pyplot as plt\n",
        "import seaborn as sns\n",
        "from mlxtend.classifier import StackingCVClassifier\n",
        "from scipy.stats import norm, skew\n",
        "from scipy import stats\n",
        "from sklearn.ensemble import GradientBoostingRegressor\n",
        "from sklearn.impute import SimpleImputer\n",
        "from scipy.misc import derivative\n",
        "from sklearn.preprocessing import LabelEncoder\n",
        "from sklearn.model_selection import train_test_split, GridSearchCV\n",
        "from sklearn import linear_model, datasets\n",
        "from sklearn.linear_model import Lasso\n",
        "from sklearn.linear_model import LogisticRegression\n",
        "from sklearn.ensemble import RandomForestClassifier\n",
        "import lightgbm\n",
        "from sklearn import svm\n",
        "from sklearn.neural_network import MLPRegressor,MLPClassifier\n",
        "from sklearn.ensemble import AdaBoostClassifier\n",
        "import random\n",
        "from sklearn.metrics import roc_auc_score\n",
        "from scipy import optimize\n",
        "from scipy import special\n",
        "from imblearn.over_sampling import SMOTE\n",
        "from sklearn.decomposition import PCA\n",
        "from xgboost import XGBClassifier\n",
        "from sklearn.tree import DecisionTreeClassifier\n",
        "from sklearn.naive_bayes import MultinomialNB,BernoulliNB\n",
        "from sklearn import preprocessing\n",
        "import warnings\n",
        "warnings.filterwarnings(\"ignore\")"
      ],
      "id": "9584ce9f",
      "execution_count": 5,
      "outputs": [
        {
          "output_type": "stream",
          "name": "stderr",
          "text": [
            "/usr/local/lib/python3.7/dist-packages/sklearn/externals/six.py:31: FutureWarning: The module is deprecated in version 0.21 and will be removed in version 0.23 since we've dropped support for Python 2.7. Please rely on the official version of six (https://pypi.org/project/six/).\n",
            "  \"(https://pypi.org/project/six/).\", FutureWarning)\n",
            "/usr/local/lib/python3.7/dist-packages/sklearn/utils/deprecation.py:144: FutureWarning: The sklearn.neighbors.base module is  deprecated in version 0.22 and will be removed in version 0.24. The corresponding classes / functions should instead be imported from sklearn.neighbors. Anything that cannot be imported from sklearn.neighbors is now part of the private API.\n",
            "  warnings.warn(message, FutureWarning)\n"
          ]
        }
      ]
    },
    {
      "cell_type": "code",
      "metadata": {
        "colab": {
          "base_uri": "https://localhost:8080/"
        },
        "id": "BGnETdADSwUC",
        "outputId": "2fa9d4d5-2e22-4481-a34a-669eb02e5df9"
      },
      "source": [
        "from google.colab import drive\n",
        "drive.mount('/content/drive')"
      ],
      "id": "BGnETdADSwUC",
      "execution_count": 2,
      "outputs": [
        {
          "output_type": "stream",
          "name": "stdout",
          "text": [
            "Mounted at /content/drive\n"
          ]
        }
      ]
    },
    {
      "cell_type": "code",
      "metadata": {
        "id": "dc646790"
      },
      "source": [
        "#2020-11-02 18:51:24.674845\n",
        "#67884674845\n",
        "def get_time_stamp(time):\n",
        "    hh = int(time[11:11+2])\n",
        "    mm = int(time[14:14+2])\n",
        "    ii = int(time[17:17+2])\n",
        "    res = hh*3600+mm*60+ii\n",
        "    for i in range(20,len(time)):\n",
        "        res=res*10+ord(time[i])-ord('0')\n",
        "    return res"
      ],
      "id": "dc646790",
      "execution_count": 3,
      "outputs": []
    },
    {
      "cell_type": "code",
      "metadata": {
        "id": "d21d63e8"
      },
      "source": [
        "train_data_label = pd.read_csv('CCF2021_run_label_Train.csv')\n",
        "label_p_id = train_data_label['人员编号']\n",
        "label_c_id = train_data_label['特征码']\n",
        "answer = {label_p_id[i]:label_c_id[i] for i in range(len(label_p_id))}"
      ],
      "id": "d21d63e8",
      "execution_count": 6,
      "outputs": []
    },
    {
      "cell_type": "code",
      "metadata": {
        "id": "27df3adb"
      },
      "source": [
        "# train_data = pd.read_csv('train_feature.csv')\n",
        "# test_data = pd.read_csv('test_feature.csv')\n",
        "train_data = pd.read_csv('/content/drive/MyDrive/ccf data/train_feature_new.csv')\n",
        "test_data = pd.read_csv('/content/drive/MyDrive/ccf data/test_feature_new.csv')"
      ],
      "id": "27df3adb",
      "execution_count": 23,
      "outputs": []
=======
 "cells": [
  {
   "cell_type": "markdown",
   "id": "9d7066ea",
   "metadata": {
    "colab_type": "text",
    "id": "view-in-github"
   },
   "source": [
    "<a href=\"https://colab.research.google.com/github/cycl2018/Correlation-calculation/blob/main/Model.ipynb\" target=\"_parent\"><img src=\"https://colab.research.google.com/assets/colab-badge.svg\" alt=\"Open In Colab\"/></a>"
   ]
  },
  {
   "cell_type": "code",
   "execution_count": 1,
   "id": "9584ce9f",
   "metadata": {
    "id": "9584ce9f"
   },
   "outputs": [],
   "source": [
    "import pandas as pd\n",
    "import numpy as np\n",
    "import os\n",
    "import time, datetime\n",
    "import math\n",
    "import random\n",
    "from sklearn import preprocessing\n",
    "import torch\n",
    "from sklearn.model_selection import KFold\n",
    "import matplotlib.pyplot as plt\n",
    "import seaborn as sns\n",
    "from mlxtend.classifier import StackingCVClassifier\n",
    "from scipy.stats import norm, skew\n",
    "from scipy import stats\n",
    "from sklearn.ensemble import GradientBoostingRegressor\n",
    "from sklearn.impute import SimpleImputer\n",
    "from scipy.misc import derivative\n",
    "from sklearn.preprocessing import LabelEncoder\n",
    "from sklearn.model_selection import train_test_split, GridSearchCV\n",
    "from sklearn import linear_model, datasets\n",
    "from sklearn.linear_model import Lasso\n",
    "from sklearn.linear_model import LogisticRegression\n",
    "from sklearn.ensemble import RandomForestClassifier\n",
    "import lightgbm\n",
    "from sklearn import svm\n",
    "from sklearn.neural_network import MLPRegressor,MLPClassifier\n",
    "from sklearn.ensemble import AdaBoostClassifier\n",
    "import random\n",
    "from sklearn.metrics import roc_auc_score\n",
    "from scipy import optimize\n",
    "from scipy import special\n",
    "from imblearn.over_sampling import SMOTE\n",
    "from sklearn.decomposition import PCA\n",
    "from xgboost import XGBClassifier\n",
    "from sklearn.tree import DecisionTreeClassifier\n",
    "from sklearn.naive_bayes import MultinomialNB,BernoulliNB\n",
    "from sklearn import preprocessing\n",
    "import warnings\n",
    "warnings.filterwarnings(\"ignore\")"
   ]
  },
  {
   "cell_type": "code",
   "execution_count": 2,
   "id": "dc646790",
   "metadata": {
    "id": "dc646790"
   },
   "outputs": [],
   "source": [
    "#2020-11-02 18:51:24.674845\n",
    "#67884674845\n",
    "def get_time_stamp(time):\n",
    "    hh = int(time[11:11+2])\n",
    "    mm = int(time[14:14+2])\n",
    "    ii = int(time[17:17+2])\n",
    "    res = hh*3600+mm*60+ii\n",
    "    for i in range(20,len(time)):\n",
    "        res=res*10+ord(time[i])-ord('0')\n",
    "    return res"
   ]
  },
  {
   "cell_type": "code",
   "execution_count": 3,
   "id": "d21d63e8",
   "metadata": {
    "id": "d21d63e8"
   },
   "outputs": [],
   "source": [
    "train_data_label = pd.read_csv('CCF2021_run_label_Train.csv')\n",
    "label_p_id = train_data_label['人员编号']\n",
    "label_c_id = train_data_label['特征码']\n",
    "answer = {label_p_id[i]:label_c_id[i] for i in range(len(label_p_id))}"
   ]
  },
  {
   "cell_type": "code",
   "execution_count": 4,
   "id": "27df3adb",
   "metadata": {
    "id": "27df3adb"
   },
   "outputs": [],
   "source": [
    "train_data = pd.read_csv('train_feature.csv')\n",
    "test_data = pd.read_csv('test_feature.csv')\n",
    "#train_data = pd.read_csv('/content/drive/MyDrive/ccf data/train_feature.csv')\n",
    "#test_data = pd.read_csv('/content/drive/MyDrive/ccf data/test_feature.csv')"
   ]
  },
  {
   "cell_type": "code",
   "execution_count": 5,
   "id": "ea2c3a6b",
   "metadata": {
    "colab": {
     "base_uri": "https://localhost:8080/"
>>>>>>> Stashed changes
    },
    "id": "ea2c3a6b",
    "outputId": "b7d2885b-e337-4788-99ed-ce258b870c97"
   },
   "outputs": [
    {
<<<<<<< Updated upstream
      "cell_type": "code",
      "metadata": {
        "colab": {
          "base_uri": "https://localhost:8080/"
        },
        "id": "ea2c3a6b",
        "outputId": "5d95aa30-958a-4beb-de6e-b1a7d2a71c7d"
      },
      "source": [
        "train_data.shape,test_data.shape"
      ],
      "id": "ea2c3a6b",
      "execution_count": 24,
      "outputs": [
        {
          "output_type": "execute_result",
          "data": {
            "text/plain": [
              "((398338, 20), (196382, 19))"
            ]
          },
          "metadata": {},
          "execution_count": 24
        }
=======
     "data": {
      "text/plain": [
       "((398338, 15), (196382, 14))"
>>>>>>> Stashed changes
      ]
     },
     "execution_count": 5,
     "metadata": {},
     "output_type": "execute_result"
    }
   ],
   "source": [
    "train_data.shape,test_data.shape"
   ]
  },
  {
   "cell_type": "code",
   "execution_count": 6,
   "id": "1bebf2b4",
   "metadata": {
    "id": "1bebf2b4",
    "outputId": "e2c95573-846e-44e8-f6ab-ccc3439d579b"
   },
   "outputs": [
    {
     "data": {
      "text/plain": [
       "\"\\ncols = train_data.columns.tolist()\\ncols.remove('c_id')\\ncols.remove('p_id')\\ncols.remove('label')\\nfor col in cols:\\n    Min = min(float(train_data[col].min()),float(test_data[col].min()))\\n    Max = max(float(train_data[col].max()),float(test_data[col].max()))\\n    train_data.loc[:,col] = (train_data.loc[:,col]-Min)/(Max-Min)\\n    test_data.loc[:,col] = (test_data.loc[:,col]-Min)/(Max-Min)\\n\""
      ]
     },
     "execution_count": 6,
     "metadata": {},
     "output_type": "execute_result"
    }
   ],
   "source": [
    "'''\n",
    "cols = train_data.columns.tolist()\n",
    "cols.remove('c_id')\n",
    "cols.remove('p_id')\n",
    "cols.remove('label')\n",
    "for col in cols:\n",
    "    Min = min(float(train_data[col].min()),float(test_data[col].min()))\n",
    "    Max = max(float(train_data[col].max()),float(test_data[col].max()))\n",
    "    train_data.loc[:,col] = (train_data.loc[:,col]-Min)/(Max-Min)\n",
    "    test_data.loc[:,col] = (test_data.loc[:,col]-Min)/(Max-Min)\n",
    "'''"
   ]
  },
  {
   "cell_type": "code",
   "execution_count": 7,
   "id": "4de77339",
   "metadata": {
    "colab": {
     "base_uri": "https://localhost:8080/",
     "height": 610
    },
    "id": "4de77339",
    "outputId": "79f5488c-2089-478c-b731-7019ad719a08"
   },
   "outputs": [
    {
<<<<<<< Updated upstream
      "cell_type": "code",
      "metadata": {
        "id": "4de77339"
      },
      "source": [
        "train_data"
      ],
      "id": "4de77339",
      "execution_count": null,
      "outputs": []
=======
     "data": {
      "text/html": [
       "<div>\n",
       "<style scoped>\n",
       "    .dataframe tbody tr th:only-of-type {\n",
       "        vertical-align: middle;\n",
       "    }\n",
       "\n",
       "    .dataframe tbody tr th {\n",
       "        vertical-align: top;\n",
       "    }\n",
       "\n",
       "    .dataframe thead th {\n",
       "        text-align: right;\n",
       "    }\n",
       "</style>\n",
       "<table border=\"1\" class=\"dataframe\">\n",
       "  <thead>\n",
       "    <tr style=\"text-align: right;\">\n",
       "      <th></th>\n",
       "      <th>c_id</th>\n",
       "      <th>p_id</th>\n",
       "      <th>pp_number</th>\n",
       "      <th>average_det_time</th>\n",
       "      <th>cid_number</th>\n",
       "      <th>unique_pp_number</th>\n",
       "      <th>unique_average_det_time</th>\n",
       "      <th>unique_lcs</th>\n",
       "      <th>p_number</th>\n",
       "      <th>pid_number</th>\n",
       "      <th>p_speed</th>\n",
       "      <th>c_speed</th>\n",
       "      <th>dis_speed</th>\n",
       "      <th>Min_time</th>\n",
       "      <th>label</th>\n",
       "    </tr>\n",
       "  </thead>\n",
       "  <tbody>\n",
       "    <tr>\n",
       "      <th>0</th>\n",
       "      <td>CY1r8Eov</td>\n",
       "      <td>P0099</td>\n",
       "      <td>0.8</td>\n",
       "      <td>3.437451e+07</td>\n",
       "      <td>558</td>\n",
       "      <td>0</td>\n",
       "      <td>1.000000e+20</td>\n",
       "      <td>2</td>\n",
       "      <td>8</td>\n",
       "      <td>10</td>\n",
       "      <td>8.764114e-10</td>\n",
       "      <td>1.264389e-09</td>\n",
       "      <td>3.879778e-10</td>\n",
       "      <td>1.000000e+30</td>\n",
       "      <td>0</td>\n",
       "    </tr>\n",
       "    <tr>\n",
       "      <th>1</th>\n",
       "      <td>CjD8XlTz</td>\n",
       "      <td>P0099</td>\n",
       "      <td>0.8</td>\n",
       "      <td>3.266357e+07</td>\n",
       "      <td>573</td>\n",
       "      <td>0</td>\n",
       "      <td>1.000000e+20</td>\n",
       "      <td>2</td>\n",
       "      <td>8</td>\n",
       "      <td>10</td>\n",
       "      <td>8.764114e-10</td>\n",
       "      <td>1.103917e-09</td>\n",
       "      <td>2.275057e-10</td>\n",
       "      <td>1.000000e+30</td>\n",
       "      <td>0</td>\n",
       "    </tr>\n",
       "    <tr>\n",
       "      <th>2</th>\n",
       "      <td>C1b6QpCZ</td>\n",
       "      <td>P0099</td>\n",
       "      <td>0.8</td>\n",
       "      <td>2.081857e+08</td>\n",
       "      <td>538</td>\n",
       "      <td>0</td>\n",
       "      <td>1.000000e+20</td>\n",
       "      <td>2</td>\n",
       "      <td>8</td>\n",
       "      <td>10</td>\n",
       "      <td>8.764114e-10</td>\n",
       "      <td>5.378414e-10</td>\n",
       "      <td>3.385700e-10</td>\n",
       "      <td>1.000000e+30</td>\n",
       "      <td>0</td>\n",
       "    </tr>\n",
       "    <tr>\n",
       "      <th>3</th>\n",
       "      <td>C1uhR4YE</td>\n",
       "      <td>P0099</td>\n",
       "      <td>0.8</td>\n",
       "      <td>1.658634e+08</td>\n",
       "      <td>543</td>\n",
       "      <td>0</td>\n",
       "      <td>1.000000e+20</td>\n",
       "      <td>2</td>\n",
       "      <td>8</td>\n",
       "      <td>10</td>\n",
       "      <td>8.764114e-10</td>\n",
       "      <td>1.134907e-09</td>\n",
       "      <td>2.584956e-10</td>\n",
       "      <td>1.000000e+30</td>\n",
       "      <td>0</td>\n",
       "    </tr>\n",
       "    <tr>\n",
       "      <th>4</th>\n",
       "      <td>CwhkYNEx</td>\n",
       "      <td>P0099</td>\n",
       "      <td>0.8</td>\n",
       "      <td>2.051248e+08</td>\n",
       "      <td>545</td>\n",
       "      <td>0</td>\n",
       "      <td>1.000000e+20</td>\n",
       "      <td>2</td>\n",
       "      <td>8</td>\n",
       "      <td>10</td>\n",
       "      <td>8.764114e-10</td>\n",
       "      <td>1.652945e-09</td>\n",
       "      <td>7.765340e-10</td>\n",
       "      <td>1.000000e+30</td>\n",
       "      <td>0</td>\n",
       "    </tr>\n",
       "    <tr>\n",
       "      <th>...</th>\n",
       "      <td>...</td>\n",
       "      <td>...</td>\n",
       "      <td>...</td>\n",
       "      <td>...</td>\n",
       "      <td>...</td>\n",
       "      <td>...</td>\n",
       "      <td>...</td>\n",
       "      <td>...</td>\n",
       "      <td>...</td>\n",
       "      <td>...</td>\n",
       "      <td>...</td>\n",
       "      <td>...</td>\n",
       "      <td>...</td>\n",
       "      <td>...</td>\n",
       "      <td>...</td>\n",
       "    </tr>\n",
       "    <tr>\n",
       "      <th>398333</th>\n",
       "      <td>C1mIwd2h</td>\n",
       "      <td>P1967</td>\n",
       "      <td>1.0</td>\n",
       "      <td>8.694088e+09</td>\n",
       "      <td>21</td>\n",
       "      <td>2</td>\n",
       "      <td>7.092226e+09</td>\n",
       "      <td>2</td>\n",
       "      <td>9</td>\n",
       "      <td>9</td>\n",
       "      <td>2.409650e-10</td>\n",
       "      <td>9.620614e-10</td>\n",
       "      <td>7.210963e-10</td>\n",
       "      <td>3.495210e+09</td>\n",
       "      <td>0</td>\n",
       "    </tr>\n",
       "    <tr>\n",
       "      <th>398334</th>\n",
       "      <td>C3LHAtmI</td>\n",
       "      <td>P1967</td>\n",
       "      <td>1.0</td>\n",
       "      <td>6.299373e+09</td>\n",
       "      <td>21</td>\n",
       "      <td>2</td>\n",
       "      <td>2.120187e+10</td>\n",
       "      <td>2</td>\n",
       "      <td>9</td>\n",
       "      <td>9</td>\n",
       "      <td>2.409650e-10</td>\n",
       "      <td>6.214749e-10</td>\n",
       "      <td>3.805099e-10</td>\n",
       "      <td>4.582346e+09</td>\n",
       "      <td>0</td>\n",
       "    </tr>\n",
       "    <tr>\n",
       "      <th>398335</th>\n",
       "      <td>CxHgGpZa</td>\n",
       "      <td>P1967</td>\n",
       "      <td>1.0</td>\n",
       "      <td>1.883359e+10</td>\n",
       "      <td>21</td>\n",
       "      <td>2</td>\n",
       "      <td>1.826556e+10</td>\n",
       "      <td>2</td>\n",
       "      <td>9</td>\n",
       "      <td>9</td>\n",
       "      <td>2.409650e-10</td>\n",
       "      <td>3.818395e-10</td>\n",
       "      <td>1.408745e-10</td>\n",
       "      <td>1.208144e+10</td>\n",
       "      <td>0</td>\n",
       "    </tr>\n",
       "    <tr>\n",
       "      <th>398336</th>\n",
       "      <td>CSlXVwej</td>\n",
       "      <td>P1967</td>\n",
       "      <td>1.0</td>\n",
       "      <td>7.148984e+09</td>\n",
       "      <td>21</td>\n",
       "      <td>2</td>\n",
       "      <td>2.002582e+10</td>\n",
       "      <td>2</td>\n",
       "      <td>9</td>\n",
       "      <td>9</td>\n",
       "      <td>2.409650e-10</td>\n",
       "      <td>7.984698e-10</td>\n",
       "      <td>5.575048e-10</td>\n",
       "      <td>2.740533e+09</td>\n",
       "      <td>0</td>\n",
       "    </tr>\n",
       "    <tr>\n",
       "      <th>398337</th>\n",
       "      <td>CATf58Hn</td>\n",
       "      <td>P1967</td>\n",
       "      <td>1.0</td>\n",
       "      <td>2.324671e+10</td>\n",
       "      <td>22</td>\n",
       "      <td>2</td>\n",
       "      <td>1.188714e+10</td>\n",
       "      <td>2</td>\n",
       "      <td>9</td>\n",
       "      <td>9</td>\n",
       "      <td>2.409650e-10</td>\n",
       "      <td>2.443608e-10</td>\n",
       "      <td>3.395767e-12</td>\n",
       "      <td>5.154289e+06</td>\n",
       "      <td>0</td>\n",
       "    </tr>\n",
       "  </tbody>\n",
       "</table>\n",
       "<p>398338 rows × 15 columns</p>\n",
       "</div>"
      ],
      "text/plain": [
       "            c_id   p_id  pp_number  average_det_time  cid_number  \\\n",
       "0       CY1r8Eov  P0099        0.8      3.437451e+07         558   \n",
       "1       CjD8XlTz  P0099        0.8      3.266357e+07         573   \n",
       "2       C1b6QpCZ  P0099        0.8      2.081857e+08         538   \n",
       "3       C1uhR4YE  P0099        0.8      1.658634e+08         543   \n",
       "4       CwhkYNEx  P0099        0.8      2.051248e+08         545   \n",
       "...          ...    ...        ...               ...         ...   \n",
       "398333  C1mIwd2h  P1967        1.0      8.694088e+09          21   \n",
       "398334  C3LHAtmI  P1967        1.0      6.299373e+09          21   \n",
       "398335  CxHgGpZa  P1967        1.0      1.883359e+10          21   \n",
       "398336  CSlXVwej  P1967        1.0      7.148984e+09          21   \n",
       "398337  CATf58Hn  P1967        1.0      2.324671e+10          22   \n",
       "\n",
       "        unique_pp_number  unique_average_det_time  unique_lcs  p_number  \\\n",
       "0                      0             1.000000e+20           2         8   \n",
       "1                      0             1.000000e+20           2         8   \n",
       "2                      0             1.000000e+20           2         8   \n",
       "3                      0             1.000000e+20           2         8   \n",
       "4                      0             1.000000e+20           2         8   \n",
       "...                  ...                      ...         ...       ...   \n",
       "398333                 2             7.092226e+09           2         9   \n",
       "398334                 2             2.120187e+10           2         9   \n",
       "398335                 2             1.826556e+10           2         9   \n",
       "398336                 2             2.002582e+10           2         9   \n",
       "398337                 2             1.188714e+10           2         9   \n",
       "\n",
       "        pid_number       p_speed       c_speed     dis_speed      Min_time  \\\n",
       "0               10  8.764114e-10  1.264389e-09  3.879778e-10  1.000000e+30   \n",
       "1               10  8.764114e-10  1.103917e-09  2.275057e-10  1.000000e+30   \n",
       "2               10  8.764114e-10  5.378414e-10  3.385700e-10  1.000000e+30   \n",
       "3               10  8.764114e-10  1.134907e-09  2.584956e-10  1.000000e+30   \n",
       "4               10  8.764114e-10  1.652945e-09  7.765340e-10  1.000000e+30   \n",
       "...            ...           ...           ...           ...           ...   \n",
       "398333           9  2.409650e-10  9.620614e-10  7.210963e-10  3.495210e+09   \n",
       "398334           9  2.409650e-10  6.214749e-10  3.805099e-10  4.582346e+09   \n",
       "398335           9  2.409650e-10  3.818395e-10  1.408745e-10  1.208144e+10   \n",
       "398336           9  2.409650e-10  7.984698e-10  5.575048e-10  2.740533e+09   \n",
       "398337           9  2.409650e-10  2.443608e-10  3.395767e-12  5.154289e+06   \n",
       "\n",
       "        label  \n",
       "0           0  \n",
       "1           0  \n",
       "2           0  \n",
       "3           0  \n",
       "4           0  \n",
       "...       ...  \n",
       "398333      0  \n",
       "398334      0  \n",
       "398335      0  \n",
       "398336      0  \n",
       "398337      0  \n",
       "\n",
       "[398338 rows x 15 columns]"
      ]
     },
     "execution_count": 7,
     "metadata": {},
     "output_type": "execute_result"
    }
   ],
   "source": [
    "train_data"
   ]
  },
  {
   "cell_type": "code",
   "execution_count": 8,
   "id": "f8d25cf7",
   "metadata": {
    "colab": {
     "base_uri": "https://localhost:8080/",
     "height": 610
>>>>>>> Stashed changes
    },
    "id": "f8d25cf7",
    "outputId": "ea389f5a-17e7-4c8d-a5a5-f82cfa233ab1"
   },
   "outputs": [
    {
<<<<<<< Updated upstream
      "cell_type": "code",
      "metadata": {
        "id": "f8d25cf7"
      },
      "source": [
        "test_data"
      ],
      "id": "f8d25cf7",
      "execution_count": null,
      "outputs": []
=======
     "data": {
      "text/html": [
       "<div>\n",
       "<style scoped>\n",
       "    .dataframe tbody tr th:only-of-type {\n",
       "        vertical-align: middle;\n",
       "    }\n",
       "\n",
       "    .dataframe tbody tr th {\n",
       "        vertical-align: top;\n",
       "    }\n",
       "\n",
       "    .dataframe thead th {\n",
       "        text-align: right;\n",
       "    }\n",
       "</style>\n",
       "<table border=\"1\" class=\"dataframe\">\n",
       "  <thead>\n",
       "    <tr style=\"text-align: right;\">\n",
       "      <th></th>\n",
       "      <th>c_id</th>\n",
       "      <th>p_id</th>\n",
       "      <th>pp_number</th>\n",
       "      <th>average_det_time</th>\n",
       "      <th>cid_number</th>\n",
       "      <th>unique_pp_number</th>\n",
       "      <th>unique_average_det_time</th>\n",
       "      <th>unique_lcs</th>\n",
       "      <th>p_number</th>\n",
       "      <th>pid_number</th>\n",
       "      <th>p_speed</th>\n",
       "      <th>c_speed</th>\n",
       "      <th>dis_speed</th>\n",
       "      <th>Min_time</th>\n",
       "    </tr>\n",
       "  </thead>\n",
       "  <tbody>\n",
       "    <tr>\n",
       "      <th>0</th>\n",
       "      <td>CbsTmlCa</td>\n",
       "      <td>P0021</td>\n",
       "      <td>1.000000</td>\n",
       "      <td>3.168358e+07</td>\n",
       "      <td>554</td>\n",
       "      <td>4</td>\n",
       "      <td>2.511770e+08</td>\n",
       "      <td>4</td>\n",
       "      <td>10</td>\n",
       "      <td>10</td>\n",
       "      <td>3.664351e-10</td>\n",
       "      <td>1.960694e-09</td>\n",
       "      <td>1.594258e-09</td>\n",
       "      <td>4.700151e+07</td>\n",
       "    </tr>\n",
       "    <tr>\n",
       "      <th>1</th>\n",
       "      <td>CNgGnr1x</td>\n",
       "      <td>P0021</td>\n",
       "      <td>0.900000</td>\n",
       "      <td>3.725253e+07</td>\n",
       "      <td>551</td>\n",
       "      <td>3</td>\n",
       "      <td>3.441018e+08</td>\n",
       "      <td>4</td>\n",
       "      <td>9</td>\n",
       "      <td>10</td>\n",
       "      <td>3.664351e-10</td>\n",
       "      <td>2.562120e-09</td>\n",
       "      <td>2.195685e-09</td>\n",
       "      <td>9.241867e+07</td>\n",
       "    </tr>\n",
       "    <tr>\n",
       "      <th>2</th>\n",
       "      <td>CL0ldUEC</td>\n",
       "      <td>P0021</td>\n",
       "      <td>0.900000</td>\n",
       "      <td>4.142315e+07</td>\n",
       "      <td>554</td>\n",
       "      <td>3</td>\n",
       "      <td>4.301807e+08</td>\n",
       "      <td>4</td>\n",
       "      <td>9</td>\n",
       "      <td>10</td>\n",
       "      <td>3.664351e-10</td>\n",
       "      <td>1.398465e-09</td>\n",
       "      <td>1.032030e-09</td>\n",
       "      <td>1.102628e+08</td>\n",
       "    </tr>\n",
       "    <tr>\n",
       "      <th>3</th>\n",
       "      <td>Cg4mji7e</td>\n",
       "      <td>P0021</td>\n",
       "      <td>0.900000</td>\n",
       "      <td>4.176179e+07</td>\n",
       "      <td>541</td>\n",
       "      <td>3</td>\n",
       "      <td>2.823182e+08</td>\n",
       "      <td>4</td>\n",
       "      <td>9</td>\n",
       "      <td>10</td>\n",
       "      <td>3.664351e-10</td>\n",
       "      <td>1.427462e-09</td>\n",
       "      <td>1.061027e-09</td>\n",
       "      <td>2.197744e+08</td>\n",
       "    </tr>\n",
       "    <tr>\n",
       "      <th>4</th>\n",
       "      <td>CEiaSN40</td>\n",
       "      <td>P0021</td>\n",
       "      <td>0.900000</td>\n",
       "      <td>2.576683e+08</td>\n",
       "      <td>543</td>\n",
       "      <td>3</td>\n",
       "      <td>5.605908e+09</td>\n",
       "      <td>4</td>\n",
       "      <td>9</td>\n",
       "      <td>10</td>\n",
       "      <td>3.664351e-10</td>\n",
       "      <td>2.047915e-09</td>\n",
       "      <td>1.681479e-09</td>\n",
       "      <td>1.254980e+08</td>\n",
       "    </tr>\n",
       "    <tr>\n",
       "      <th>...</th>\n",
       "      <td>...</td>\n",
       "      <td>...</td>\n",
       "      <td>...</td>\n",
       "      <td>...</td>\n",
       "      <td>...</td>\n",
       "      <td>...</td>\n",
       "      <td>...</td>\n",
       "      <td>...</td>\n",
       "      <td>...</td>\n",
       "      <td>...</td>\n",
       "      <td>...</td>\n",
       "      <td>...</td>\n",
       "      <td>...</td>\n",
       "      <td>...</td>\n",
       "    </tr>\n",
       "    <tr>\n",
       "      <th>196377</th>\n",
       "      <td>CV9ngSKy</td>\n",
       "      <td>P0838</td>\n",
       "      <td>0.857143</td>\n",
       "      <td>1.679306e+09</td>\n",
       "      <td>19</td>\n",
       "      <td>1</td>\n",
       "      <td>4.588114e+08</td>\n",
       "      <td>1</td>\n",
       "      <td>6</td>\n",
       "      <td>7</td>\n",
       "      <td>2.142635e-10</td>\n",
       "      <td>1.537771e-10</td>\n",
       "      <td>6.048637e-11</td>\n",
       "      <td>4.592702e+08</td>\n",
       "    </tr>\n",
       "    <tr>\n",
       "      <th>196378</th>\n",
       "      <td>ClU4aBYz</td>\n",
       "      <td>P0838</td>\n",
       "      <td>1.000000</td>\n",
       "      <td>6.296622e+09</td>\n",
       "      <td>19</td>\n",
       "      <td>2</td>\n",
       "      <td>1.944902e+10</td>\n",
       "      <td>2</td>\n",
       "      <td>7</td>\n",
       "      <td>7</td>\n",
       "      <td>2.142635e-10</td>\n",
       "      <td>2.376588e-10</td>\n",
       "      <td>2.339536e-11</td>\n",
       "      <td>2.444866e+08</td>\n",
       "    </tr>\n",
       "    <tr>\n",
       "      <th>196379</th>\n",
       "      <td>CZu7nAtb</td>\n",
       "      <td>P0838</td>\n",
       "      <td>1.000000</td>\n",
       "      <td>1.692636e+10</td>\n",
       "      <td>20</td>\n",
       "      <td>2</td>\n",
       "      <td>9.038338e+09</td>\n",
       "      <td>2</td>\n",
       "      <td>7</td>\n",
       "      <td>7</td>\n",
       "      <td>2.142635e-10</td>\n",
       "      <td>2.802341e-10</td>\n",
       "      <td>6.597060e-11</td>\n",
       "      <td>1.906469e+07</td>\n",
       "    </tr>\n",
       "    <tr>\n",
       "      <th>196380</th>\n",
       "      <td>CaJvM9G1</td>\n",
       "      <td>P0838</td>\n",
       "      <td>1.000000</td>\n",
       "      <td>1.476212e+09</td>\n",
       "      <td>48</td>\n",
       "      <td>2</td>\n",
       "      <td>2.048379e+09</td>\n",
       "      <td>2</td>\n",
       "      <td>7</td>\n",
       "      <td>7</td>\n",
       "      <td>2.142635e-10</td>\n",
       "      <td>9.899794e-10</td>\n",
       "      <td>7.757159e-10</td>\n",
       "      <td>1.833486e+09</td>\n",
       "    </tr>\n",
       "    <tr>\n",
       "      <th>196381</th>\n",
       "      <td>Cold2LWV</td>\n",
       "      <td>P0838</td>\n",
       "      <td>0.142857</td>\n",
       "      <td>7.875020e+07</td>\n",
       "      <td>82</td>\n",
       "      <td>1</td>\n",
       "      <td>1.400289e+08</td>\n",
       "      <td>1</td>\n",
       "      <td>1</td>\n",
       "      <td>7</td>\n",
       "      <td>2.142635e-10</td>\n",
       "      <td>1.122508e-09</td>\n",
       "      <td>9.082442e-10</td>\n",
       "      <td>1.401690e+08</td>\n",
       "    </tr>\n",
       "  </tbody>\n",
       "</table>\n",
       "<p>196382 rows × 14 columns</p>\n",
       "</div>"
      ],
      "text/plain": [
       "            c_id   p_id  pp_number  average_det_time  cid_number  \\\n",
       "0       CbsTmlCa  P0021   1.000000      3.168358e+07         554   \n",
       "1       CNgGnr1x  P0021   0.900000      3.725253e+07         551   \n",
       "2       CL0ldUEC  P0021   0.900000      4.142315e+07         554   \n",
       "3       Cg4mji7e  P0021   0.900000      4.176179e+07         541   \n",
       "4       CEiaSN40  P0021   0.900000      2.576683e+08         543   \n",
       "...          ...    ...        ...               ...         ...   \n",
       "196377  CV9ngSKy  P0838   0.857143      1.679306e+09          19   \n",
       "196378  ClU4aBYz  P0838   1.000000      6.296622e+09          19   \n",
       "196379  CZu7nAtb  P0838   1.000000      1.692636e+10          20   \n",
       "196380  CaJvM9G1  P0838   1.000000      1.476212e+09          48   \n",
       "196381  Cold2LWV  P0838   0.142857      7.875020e+07          82   \n",
       "\n",
       "        unique_pp_number  unique_average_det_time  unique_lcs  p_number  \\\n",
       "0                      4             2.511770e+08           4        10   \n",
       "1                      3             3.441018e+08           4         9   \n",
       "2                      3             4.301807e+08           4         9   \n",
       "3                      3             2.823182e+08           4         9   \n",
       "4                      3             5.605908e+09           4         9   \n",
       "...                  ...                      ...         ...       ...   \n",
       "196377                 1             4.588114e+08           1         6   \n",
       "196378                 2             1.944902e+10           2         7   \n",
       "196379                 2             9.038338e+09           2         7   \n",
       "196380                 2             2.048379e+09           2         7   \n",
       "196381                 1             1.400289e+08           1         1   \n",
       "\n",
       "        pid_number       p_speed       c_speed     dis_speed      Min_time  \n",
       "0               10  3.664351e-10  1.960694e-09  1.594258e-09  4.700151e+07  \n",
       "1               10  3.664351e-10  2.562120e-09  2.195685e-09  9.241867e+07  \n",
       "2               10  3.664351e-10  1.398465e-09  1.032030e-09  1.102628e+08  \n",
       "3               10  3.664351e-10  1.427462e-09  1.061027e-09  2.197744e+08  \n",
       "4               10  3.664351e-10  2.047915e-09  1.681479e-09  1.254980e+08  \n",
       "...            ...           ...           ...           ...           ...  \n",
       "196377           7  2.142635e-10  1.537771e-10  6.048637e-11  4.592702e+08  \n",
       "196378           7  2.142635e-10  2.376588e-10  2.339536e-11  2.444866e+08  \n",
       "196379           7  2.142635e-10  2.802341e-10  6.597060e-11  1.906469e+07  \n",
       "196380           7  2.142635e-10  9.899794e-10  7.757159e-10  1.833486e+09  \n",
       "196381           7  2.142635e-10  1.122508e-09  9.082442e-10  1.401690e+08  \n",
       "\n",
       "[196382 rows x 14 columns]"
      ]
     },
     "execution_count": 8,
     "metadata": {},
     "output_type": "execute_result"
    }
   ],
   "source": [
    "test_data"
   ]
  },
  {
   "cell_type": "code",
   "execution_count": null,
   "id": "b45ccda6",
   "metadata": {
    "id": "b45ccda6"
   },
   "outputs": [],
   "source": []
  },
  {
   "cell_type": "code",
   "execution_count": 9,
   "id": "93417e9c",
   "metadata": {
    "id": "93417e9c"
   },
   "outputs": [],
   "source": [
    "p_ids = []\n",
    "def init(data):\n",
    "    global p_ids\n",
    "    p_ids = data['p_id'].unique().tolist()"
   ]
  },
  {
   "cell_type": "code",
   "execution_count": 10,
   "id": "40d2ed5e",
   "metadata": {
    "id": "40d2ed5e"
   },
   "outputs": [],
   "source": [
    "init(train_data)"
   ]
  },
  {
   "cell_type": "code",
   "execution_count": 11,
   "id": "bZ43V3pxZQwv",
   "metadata": {
    "id": "bZ43V3pxZQwv"
   },
   "outputs": [],
   "source": [
    "random.seed(2021)"
   ]
  },
  {
   "cell_type": "code",
   "execution_count": 12,
   "id": "adfd5bca",
   "metadata": {
    "id": "adfd5bca"
   },
   "outputs": [],
   "source": [
    "cross_size = 5\n",
    "def cross_val(model):\n",
    "    global cross_val,p_ids\n",
    "    acc = 0.0\n",
    "    for cross in range(cross_size):\n",
    "        train_p_ids = set(random.sample(p_ids,k=int(len(p_ids)*0.8)))\n",
    "        test_p_ids = set()\n",
    "        train_index = []\n",
    "        test_index = []\n",
    "        for p_id in p_ids:\n",
    "            if p_id not in train_p_ids:\n",
    "                test_p_ids.add(p_id)\n",
    "        train_index = train_data[train_data['p_id'].isin(train_p_ids)].index.tolist()\n",
    "        test_index = train_data[train_data['p_id'].isin(test_p_ids)].index.tolist()\n",
    "        small_train_data = train_data.iloc[train_index].drop(['c_id','p_id'],axis=1)\n",
    "        small_test_data = train_data.iloc[test_index]\n",
    "        test_c_id = small_test_data['c_id'].tolist()\n",
    "        test_p_id = small_test_data['p_id'].tolist()\n",
    "        small_test_data.drop(['c_id','p_id'],axis=1,inplace=True)\n",
    "        model.fit(small_train_data.drop(['label'],axis=1),small_train_data['label'])\n",
    "        predict_proba_y = model.predict_proba(small_test_data.drop(['label'],axis=1))[:,1:2]\n",
    "        tmp_answer = {}\n",
    "        for i in range(len(test_c_id)):\n",
    "            proba = predict_proba_y[i][0]\n",
    "            c_id = test_c_id[i]\n",
    "            p_id = test_p_id[i]\n",
    "            if proba > tmp_answer.get(p_id,(-1,-1))[1]:\n",
    "                tmp_answer[p_id] = (c_id,proba)\n",
    "        true = 0\n",
    "        for p_id in tmp_answer:\n",
    "            if tmp_answer[p_id][0] == answer[p_id]:\n",
    "                true += 1\n",
    "        print(true,len(test_p_ids),true/len(test_p_ids))\n",
    "        acc += true/len(test_p_ids)\n",
    "    print('acc: ',acc/cross_size)"
   ]
  },
  {
   "cell_type": "code",
   "execution_count": 13,
   "id": "4ed2cf1a",
   "metadata": {
    "colab": {
     "base_uri": "https://localhost:8080/"
>>>>>>> Stashed changes
    },
    "id": "4ed2cf1a",
    "outputId": "2458ff87-2d11-4f38-aeda-f7038f12ddc9"
   },
   "outputs": [
    {
<<<<<<< Updated upstream
      "cell_type": "code",
      "metadata": {
        "id": "b45ccda6"
      },
      "source": [
        ""
      ],
      "id": "b45ccda6",
      "execution_count": null,
      "outputs": []
    },
    {
      "cell_type": "code",
      "metadata": {
        "id": "93417e9c"
      },
      "source": [
        "p_ids = []\n",
        "def init(data):\n",
        "    global p_ids\n",
        "    p_ids = data['p_id'].unique().tolist()"
      ],
      "id": "93417e9c",
      "execution_count": 25,
      "outputs": []
    },
    {
      "cell_type": "code",
      "metadata": {
        "id": "40d2ed5e"
      },
      "source": [
        "init(train_data)"
      ],
      "id": "40d2ed5e",
      "execution_count": 26,
      "outputs": []
    },
    {
      "cell_type": "code",
      "metadata": {
        "id": "bZ43V3pxZQwv"
      },
      "source": [
        "random.seed(2021)\n",
        "random.shuffle(p_ids)"
      ],
      "id": "bZ43V3pxZQwv",
      "execution_count": 27,
      "outputs": []
    },
    {
      "cell_type": "code",
      "metadata": {
        "id": "adfd5bca"
      },
      "source": [
        "cross_size = 5\n",
        "n = len(p_ids)//cross_size + 1\n",
        "p_data = [p_ids[i:i+n] for i in range(0, len(p_ids), n)]\n",
        "def cross_val(model):\n",
        "    global cross_val,p_ids\n",
        "    acc = 0.0\n",
        "    for cross in range(cross_size):\n",
        "        train_p_ids = []\n",
        "        for i in range(cross_size):\n",
        "          if i != cross:\n",
        "            train_p_ids = train_p_ids + p_data[i] \n",
        "        test_p_ids = p_data[cross]\n",
        "        train_index = []\n",
        "        test_index = []\n",
        "        # for p_id in p_ids:\n",
        "        #     if p_id not in train_p_ids:\n",
        "        #         test_p_ids.add(p_id)\n",
        "        train_index = train_data[train_data['p_id'].isin(train_p_ids)].index.tolist()\n",
        "        test_index = train_data[train_data['p_id'].isin(test_p_ids)].index.tolist()\n",
        "        small_train_data = train_data.iloc[train_index].drop(['c_id','p_id'],axis=1)\n",
        "        small_test_data = train_data.iloc[test_index]\n",
        "        test_c_id = small_test_data['c_id'].tolist()\n",
        "        test_p_id = small_test_data['p_id'].tolist()\n",
        "        small_test_data.drop(['c_id','p_id'],axis=1,inplace=True)\n",
        "        model.fit(small_train_data.drop(['label'],axis=1),small_train_data['label'])\n",
        "        predict_proba_y = model.predict_proba(small_test_data.drop(['label'],axis=1))[:,1:2]\n",
        "        tmp_answer = {}\n",
        "        for i in range(len(test_c_id)):\n",
        "            proba = predict_proba_y[i][0]\n",
        "            c_id = test_c_id[i]\n",
        "            p_id = test_p_id[i]\n",
        "            if proba > tmp_answer.get(p_id,(-1,-1))[1]:\n",
        "                tmp_answer[p_id] = (c_id,proba)\n",
        "        true = 0\n",
        "        for p_id in tmp_answer:\n",
        "            if tmp_answer[p_id][0] == answer[p_id]:\n",
        "                true += 1\n",
        "        print(true/len(test_p_ids))\n",
        "        acc += true/len(test_p_ids)\n",
        "    print('acc: ',acc/cross_size)\n",
        "    # return -acc/cross_size"
      ],
      "id": "adfd5bca",
      "execution_count": 28,
      "outputs": []
    },
    {
      "cell_type": "code",
      "metadata": {
        "colab": {
          "base_uri": "https://localhost:8080/"
        },
        "id": "4ed2cf1a",
        "outputId": "413d4942-3c7a-4407-c71c-76b6e4514bc9"
      },
      "source": [
        "%%time\n",
        "lgb=lightgbm.LGBMClassifier( objective='binary',\n",
        "                        # metric='f1_score',\n",
        "                        learning_rate=0.02,\n",
        "                        n_estimators=500,\n",
        "                        boosting= \"gbdt\",\n",
        "                        max_depth=10,\n",
        "                        num_leaves=400,\n",
        "                        feature_fraction = 0.9,  \n",
        "                        bagging_fraction = 0.95,  \n",
        "                        bagging_freq = 5, \n",
        "                        reg_alpha = 0.02,\n",
        "                        reg_lambda = 0.05,\n",
        "                        min_data_in_leaf = 20,\n",
        "                        )\n",
        "params =  {'bagging_fraction': 0.9325837890849541, 'bagging_freq': 5, 'boosting_type': 'gbdt', 'feature_fraction': 0.7015355243328362, 'learning_rate': 0.06046174903181386, 'max_depth': 8, 'min_data_in_leaf': 15, 'min_gain_to_split': 0.6093427327673105, 'n_estimators': 500, 'num_leaves': 127, 'reg_alpha': 0.1949793976192661, 'reg_lambda': 0.960591321518608}\n",
        "params = {'learning_rate': 0.017737413271505673, 'boosting_type': 'gbdt', 'objective': 'binary', 'num_leaves': 63, 'max_depth': 10, 'n_estimators': 500, 'min_data_in_leaf': 34, 'min_gain_to_split': 0.188661079484727, 'reg_alpha': 0.4248068068953985, 'reg_lambda': 1.039347932519718, 'feature_fraction': 0.9715679990466433, 'bagging_fraction': 0.6816784267307361, 'bagging_freq': 5, 'verbose': -1}\n",
        "\n",
        "lgb = lightgbm.LGBMClassifier(**params)\n",
        "cross_val(lgb)"
      ],
      "id": "4ed2cf1a",
      "execution_count": 35,
      "outputs": [
        {
          "output_type": "stream",
          "name": "stdout",
          "text": [
            "0.92\n",
            "0.9\n",
            "0.9125\n",
            "0.9125\n",
            "0.9093198992443325\n",
            "acc:  0.9108639798488666\n",
            "CPU times: user 2min 26s, sys: 610 ms, total: 2min 27s\n",
            "Wall time: 2min 26s\n"
          ]
        }
      ]
    },
    {
      "cell_type": "code",
      "metadata": {
        "colab": {
          "base_uri": "https://localhost:8080/"
        },
        "id": "374d9cbf",
        "outputId": "564cf939-f9e5-442e-c1fc-6593815daf71"
      },
      "source": [
        "lr = LogisticRegression(# class_weight={0:1,1:100},\n",
        "                        max_iter=5000,\n",
        "                        random_state=2018)\n",
        "cross_val(lr)"
      ],
      "id": "374d9cbf",
      "execution_count": 33,
      "outputs": [
        {
          "output_type": "stream",
          "name": "stdout",
          "text": [
            "0.8275\n",
            "0.795\n",
            "0.825\n",
            "0.8075\n",
            "0.8060453400503779\n",
            "acc:  0.8122090680100756\n"
          ]
        }
      ]
    },
    {
      "cell_type": "code",
      "metadata": {
        "colab": {
          "background_save": true
        },
        "id": "d2f4b36e"
      },
      "source": [
        "dtc = DecisionTreeClassifier(max_depth=5,\n",
        "                            class_weight={0:1,1:1})\n",
        "abc = AdaBoostClassifier(base_estimator = dtc,\n",
        "                        n_estimators=500,\n",
        "                        learning_rate=0.15,\n",
        "                        random_state=2019)\n",
        "cross_val(abc)"
      ],
      "id": "d2f4b36e",
      "execution_count": null,
      "outputs": []
=======
     "name": "stdout",
     "output_type": "stream",
     "text": [
      "Wall time: 0 ns\n"
     ]
    }
   ],
   "source": [
    "%%time\n",
    "lgb=lightgbm.LGBMClassifier( objective='binary',\n",
    "                        # metric='f1_score',\n",
    "                        learning_rate=0.02,\n",
    "                        n_estimators=500,\n",
    "                        boosting= \"gbdt\",\n",
    "                        max_depth=10,\n",
    "                        num_leaves=400,\n",
    "                        feature_fraction = 0.9,  \n",
    "                        bagging_fraction = 0.95,  \n",
    "                        bagging_freq = 5, \n",
    "                        reg_alpha = 0.02,\n",
    "                        reg_lambda = 0.05,\n",
    "                        min_data_in_leaf = 20,\n",
    "                        )\n",
    "#cross_val(lgb)"
   ]
  },
  {
   "cell_type": "code",
   "execution_count": 14,
   "id": "374d9cbf",
   "metadata": {
    "colab": {
     "base_uri": "https://localhost:8080/"
    },
    "id": "374d9cbf",
    "outputId": "320929be-0a87-4ae4-cfb4-127b40c7515a"
   },
   "outputs": [],
   "source": [
    "lr = LogisticRegression(class_weight={0:1,1:100},\n",
    "                        max_iter=5000,\n",
    "                        random_state=2018)\n",
    "#cross_val(lr)"
   ]
  },
  {
   "cell_type": "code",
   "execution_count": 15,
   "id": "d2f4b36e",
   "metadata": {
    "colab": {
     "base_uri": "https://localhost:8080/"
    },
    "id": "d2f4b36e",
    "outputId": "ce5062ad-8c25-4dc0-d741-56d02b396dae"
   },
   "outputs": [],
   "source": [
    "dtc = DecisionTreeClassifier(max_depth=1,\n",
    "                            class_weight={0:1,1:1})\n",
    "abc = AdaBoostClassifier(base_estimator = dtc,\n",
    "                        n_estimators=500,\n",
    "                        learning_rate=0.15,\n",
    "                        random_state=2019)\n",
    "#cross_val(abc)"
   ]
  },
  {
   "cell_type": "code",
   "execution_count": 16,
   "id": "202ef6f4",
   "metadata": {
    "colab": {
     "base_uri": "https://localhost:8080/"
>>>>>>> Stashed changes
    },
    "id": "202ef6f4",
    "outputId": "6b106e5f-dd7a-46ae-cc7c-8d4d4ccf4a75"
   },
   "outputs": [
    {
<<<<<<< Updated upstream
      "cell_type": "code",
      "metadata": {
        "colab": {
          "base_uri": "https://localhost:8080/"
        },
        "id": "202ef6f4",
        "outputId": "b1653b12-455a-481f-fc74-d1a587ab2538"
      },
      "source": [
        "# abc.fit(train_data.drop(['c_id','p_id','label'],axis=1),train_data['label'])\n",
        "model = lgb \n",
        "model.fit(train_data.drop(['c_id','p_id','label'],axis=1),train_data['label'])"
      ],
      "id": "202ef6f4",
      "execution_count": 30,
      "outputs": [
        {
          "output_type": "execute_result",
          "data": {
            "text/plain": [
              "LGBMClassifier(bagging_fraction=0.95, bagging_freq=5, boosting='gbdt',\n",
              "               boosting_type='gbdt', class_weight=None, colsample_bytree=1.0,\n",
              "               feature_fraction=0.9, importance_type='split',\n",
              "               learning_rate=0.02, max_depth=10, min_child_samples=20,\n",
              "               min_child_weight=0.001, min_data_in_leaf=20, min_split_gain=0.0,\n",
              "               n_estimators=500, n_jobs=-1, num_leaves=400, objective='binary',\n",
              "               random_state=None, reg_alpha=0.02, reg_lambda=0.05, silent=True,\n",
              "               subsample=1.0, subsample_for_bin=200000, subsample_freq=0)"
            ]
          },
          "metadata": {},
          "execution_count": 30
        }
      ]
    },
    {
      "cell_type": "code",
      "metadata": {
        "colab": {
          "base_uri": "https://localhost:8080/"
        },
        "id": "f7cc7cc9",
        "outputId": "d1ce68b9-7090-434d-f7c1-d628f0bbc1e1"
      },
      "source": [
        "###false\n",
        "\n",
        "test_c_id = train_data['c_id']\n",
        "test_p_id = train_data['p_id']\n",
        "predict_proba_y = model.predict_proba(train_data.drop(['c_id','p_id','label'],axis=1))[:,1:2]\n",
        "tmp_answer = {}\n",
        "train_acc = 0\n",
        "false_c_id = []\n",
        "false_p_id = []\n",
        "for i in range(len(test_c_id)):\n",
        "    proba = predict_proba_y[i][0]\n",
        "    c_id = test_c_id[i]\n",
        "    p_id = test_p_id[i]\n",
        "    if proba > tmp_answer.get(p_id,(-1,-1))[1]:\n",
        "        tmp_answer[p_id] = (c_id,proba)\n",
        "test_p_id = list(set(test_p_id))\n",
        "for p_id in test_p_id:\n",
        "    if tmp_answer[p_id][0] == answer[p_id]:\n",
        "        train_acc += 1\n",
        "    else:\n",
        "        false_p_id.append(p_id)\n",
        "        false_c_id.append(tmp_answer[p_id][0])\n",
        "print(train_acc,train_acc/len(test_p_id))\n",
        "false = pd.DataFrame({'false_pids':false_p_id,\n",
        "                      'false_cids':false_c_id})\n",
        "false.to_csv('false.csv',index=False)"
      ],
      "id": "f7cc7cc9",
      "execution_count": null,
      "outputs": [
        {
          "name": "stdout",
          "output_type": "stream",
          "text": [
            "1987 0.9949924887330996\n"
          ]
        }
=======
     "name": "stdout",
     "output_type": "stream",
     "text": [
      "[LightGBM] [Warning] boosting is set=gbdt, boosting_type=gbdt will be ignored. Current value: boosting=gbdt\n",
      "[LightGBM] [Warning] feature_fraction is set=0.9, colsample_bytree=1.0 will be ignored. Current value: feature_fraction=0.9\n",
      "[LightGBM] [Warning] min_data_in_leaf is set=20, min_child_samples=20 will be ignored. Current value: min_data_in_leaf=20\n",
      "[LightGBM] [Warning] bagging_fraction is set=0.95, subsample=1.0 will be ignored. Current value: bagging_fraction=0.95\n",
      "[LightGBM] [Warning] bagging_freq is set=5, subsample_freq=0 will be ignored. Current value: bagging_freq=5\n"
     ]
    },
    {
     "data": {
      "text/plain": [
       "LGBMClassifier(bagging_fraction=0.95, bagging_freq=5, boosting='gbdt',\n",
       "               feature_fraction=0.9, learning_rate=0.02, max_depth=10,\n",
       "               min_data_in_leaf=20, n_estimators=500, num_leaves=400,\n",
       "               objective='binary', reg_alpha=0.02, reg_lambda=0.05)"
>>>>>>> Stashed changes
      ]
     },
     "execution_count": 16,
     "metadata": {},
     "output_type": "execute_result"
    }
   ],
   "source": [
    "# abc.fit(train_data.drop(['c_id','p_id','label'],axis=1),train_data['label'])\n",
    "model = lgb \n",
    "model.fit(train_data.drop(['c_id','p_id','label'],axis=1),train_data['label'])"
   ]
  },
  {
   "cell_type": "code",
   "execution_count": 17,
   "id": "f7cc7cc9",
   "metadata": {
    "colab": {
     "base_uri": "https://localhost:8080/"
    },
    "id": "f7cc7cc9",
    "outputId": "d1ce68b9-7090-434d-f7c1-d628f0bbc1e1"
   },
   "outputs": [
    {
<<<<<<< Updated upstream
      "cell_type": "code",
      "metadata": {
        "id": "0dff64fa"
      },
      "source": [
        "\n",
        "test_c_id = test_data['c_id']\n",
        "test_p_id = test_data['p_id']\n",
        "predict_proba_y = model.predict_proba(test_data.drop(['c_id','p_id'],axis=1))[:,1:2]\n",
        "tmp_answer = {}\n",
        "for i in range(len(test_c_id)):\n",
        "    proba = predict_proba_y[i][0]\n",
        "    c_id = test_c_id[i]\n",
        "    p_id = test_p_id[i]\n",
        "    if proba > tmp_answer.get(p_id,(-1,-1))[1]:\n",
        "        tmp_answer[p_id] = (c_id,proba)\n",
        "test_p_id = list(set(test_p_id))\n",
        "test_c_id = []\n",
        "for p_id in test_p_id:\n",
        "    test_c_id.append(tmp_answer.get(p_id,'-1')[0])\n",
        "submit = pd.DataFrame({'人员编号':test_p_id,\n",
        "                       '特征码':test_c_id})\n",
        "submit.to_csv('output.csv',index=False)"
      ],
      "id": "0dff64fa",
      "execution_count": 31,
      "outputs": []
=======
     "name": "stdout",
     "output_type": "stream",
     "text": [
      "1987 0.9949924887330996\n"
     ]
    }
   ],
   "source": [
    "###false\n",
    "\n",
    "test_c_id = train_data['c_id']\n",
    "test_p_id = train_data['p_id']\n",
    "predict_proba_y = model.predict_proba(train_data.drop(['c_id','p_id','label'],axis=1))[:,1:2]\n",
    "tmp_answer = {}\n",
    "train_acc = 0\n",
    "false_c_id = []\n",
    "false_p_id = []\n",
    "for i in range(len(test_c_id)):\n",
    "    proba = predict_proba_y[i][0]\n",
    "    c_id = test_c_id[i]\n",
    "    p_id = test_p_id[i]\n",
    "    if proba > tmp_answer.get(p_id,(-1,-1))[1]:\n",
    "        tmp_answer[p_id] = (c_id,proba)\n",
    "test_p_id = list(set(test_p_id))\n",
    "for p_id in test_p_id:\n",
    "    if tmp_answer[p_id][0] == answer[p_id]:\n",
    "        train_acc += 1\n",
    "    else:\n",
    "        false_p_id.append(p_id)\n",
    "        false_c_id.append(tmp_answer[p_id][0])\n",
    "print(train_acc,train_acc/len(test_p_id))\n",
    "false = pd.DataFrame({'false_pids':false_p_id,\n",
    "                      'false_cids':false_c_id})\n",
    "false.to_csv('false.csv',index=False)"
   ]
  },
  {
   "cell_type": "code",
   "execution_count": 18,
   "id": "0dff64fa",
   "metadata": {
    "id": "0dff64fa"
   },
   "outputs": [],
   "source": [
    "\n",
    "test_c_id = test_data['c_id']\n",
    "test_p_id = test_data['p_id']\n",
    "predict_proba_y = model.predict_proba(test_data.drop(['c_id','p_id'],axis=1))[:,1:2]\n",
    "tmp_answer = {}\n",
    "for i in range(len(test_c_id)):\n",
    "    proba = predict_proba_y[i][0]\n",
    "    c_id = test_c_id[i]\n",
    "    p_id = test_p_id[i]\n",
    "    if proba > tmp_answer.get(p_id,(-1,-1))[1]:\n",
    "        tmp_answer[p_id] = (c_id,proba)\n",
    "test_p_id = list(set(test_p_id))\n",
    "test_c_id = []\n",
    "for p_id in test_p_id:\n",
    "    test_c_id.append(tmp_answer.get(p_id,'-1')[0])\n",
    "submit = pd.DataFrame({'人员编号':test_p_id,\n",
    "                       '特征码':test_c_id})\n",
    "submit.to_csv('output.csv',index=False)"
   ]
  },
  {
   "cell_type": "code",
   "execution_count": 19,
   "id": "6f516a9a",
   "metadata": {
    "colab": {
     "base_uri": "https://localhost:8080/"
>>>>>>> Stashed changes
    },
    "id": "6f516a9a",
    "outputId": "d17b8ca0-4e93-4151-8023-7e5994979490"
   },
   "outputs": [
    {
<<<<<<< Updated upstream
      "cell_type": "code",
      "metadata": {
        "colab": {
          "base_uri": "https://localhost:8080/"
        },
        "id": "6f516a9a",
        "outputId": "e9e85b6d-56ac-418e-9332-da054cbcf717"
      },
      "source": [
        "print(pd.DataFrame({\n",
        "        'column': test_data.columns[2:], \n",
        "        'importance': model.booster_.feature_importance(),\n",
        "    }).sort_values(by='importance',ascending = False))"
      ],
      "id": "6f516a9a",
      "execution_count": 32,
      "outputs": [
        {
          "output_type": "stream",
          "name": "stdout",
          "text": [
            "                     column  importance\n",
            "14                 Min_time        9840\n",
            "1          average_det_time        9615\n",
            "4   unique_average_det_time        9054\n",
            "10                dis_speed        7294\n",
            "2                cid_number        7022\n",
            "12              c_speed_min        6782\n",
            "9                   c_speed        6107\n",
            "8                   p_speed        5988\n",
            "6                  p_number        4340\n",
            "15           c_speed_change        2592\n",
            "7                pid_number        1806\n",
            "0                 pp_number        1719\n",
            "3          unique_pp_number        1186\n",
            "5                unique_lcs         964\n",
            "13            dis_speed_min         786\n",
            "16           p_speed_change         478\n",
            "11              p_speed_min           0\n"
          ]
        }
      ]
=======
     "name": "stdout",
     "output_type": "stream",
     "text": [
      "                     column  importance\n",
      "11                 Min_time       11181\n",
      "1          average_det_time       10635\n",
      "4   unique_average_det_time       10056\n",
      "2                cid_number        8778\n",
      "9                   c_speed        8577\n",
      "10                dis_speed        7977\n",
      "8                   p_speed        6897\n",
      "6                  p_number        4861\n",
      "0                 pp_number        1572\n",
      "3          unique_pp_number        1560\n",
      "7                pid_number        1378\n",
      "5                unique_lcs        1007\n"
     ]
    }
   ],
   "source": [
    "print(pd.DataFrame({\n",
    "        'column': test_data.columns[2:], \n",
    "        'importance': model.booster_.feature_importance(),\n",
    "    }).sort_values(by='importance',ascending = False))"
   ]
  },
  {
   "cell_type": "code",
   "execution_count": 20,
   "id": "68195074",
   "metadata": {
    "colab": {
     "base_uri": "https://localhost:8080/"
>>>>>>> Stashed changes
    },
    "id": "68195074",
    "outputId": "32f9afbf-9800-47e2-9c1e-8324ce001df0"
   },
   "outputs": [
    {
<<<<<<< Updated upstream
      "cell_type": "code",
      "metadata": {
        "colab": {
          "base_uri": "https://localhost:8080/"
        },
        "id": "68195074",
        "outputId": "32f9afbf-9800-47e2-9c1e-8324ce001df0"
      },
      "source": [
        "test_data.columns"
      ],
      "id": "68195074",
      "execution_count": null,
      "outputs": [
        {
          "data": {
            "text/plain": [
              "Index(['c_id', 'p_id', 'pp_number', 'average_det_time', 'cid_number',\n",
              "       'unique_pp_number', 'unique_average_det_time', 'unique_lcs'],\n",
              "      dtype='object')"
            ]
          },
          "execution_count": 23,
          "metadata": {},
          "output_type": "execute_result"
        }
      ]
    },
    {
      "cell_type": "code",
      "metadata": {
        "id": "e3074003"
      },
      "source": [
        "df_best = pd.read_csv('/content/output_11_4_23.csv')"
      ],
      "id": "e3074003",
      "execution_count": null,
      "outputs": []
    },
    {
      "cell_type": "code",
      "metadata": {
        "colab": {
          "base_uri": "https://localhost:8080/"
        },
        "id": "4DREBBU64ZSt",
        "outputId": "eef6e76c-48c2-401b-92e6-ef91a19b0c63"
      },
      "source": [
        "df_best.sort_values('人员编号',inplace=True)\n",
        "submit.sort_values('人员编号',inplace=True)\n",
        "num = 0\n",
        "for i,j in zip(df_best['特征码'],submit['特征码']):\n",
        "    if i!=j:\n",
        "        num += 1\n",
        "print(num)"
      ],
      "id": "4DREBBU64ZSt",
      "execution_count": null,
      "outputs": [
        {
          "output_type": "stream",
          "name": "stdout",
          "text": [
            "0\n"
          ]
        }
      ]
    },
    {
      "cell_type": "code",
      "metadata": {
        "colab": {
          "base_uri": "https://localhost:8080/",
          "height": 419
        },
        "id": "RALuZgNO4cFH",
        "outputId": "17ee60a8-e819-45f3-bc76-c3c4b8a0b4dd"
      },
      "source": [
        "submit "
      ],
      "id": "RALuZgNO4cFH",
      "execution_count": null,
      "outputs": [
        {
          "data": {
            "text/html": [
              "<div>\n",
              "<style scoped>\n",
              "    .dataframe tbody tr th:only-of-type {\n",
              "        vertical-align: middle;\n",
              "    }\n",
              "\n",
              "    .dataframe tbody tr th {\n",
              "        vertical-align: top;\n",
              "    }\n",
              "\n",
              "    .dataframe thead th {\n",
              "        text-align: right;\n",
              "    }\n",
              "</style>\n",
              "<table border=\"1\" class=\"dataframe\">\n",
              "  <thead>\n",
              "    <tr style=\"text-align: right;\">\n",
              "      <th></th>\n",
              "      <th>人员编号</th>\n",
              "      <th>特征码</th>\n",
              "    </tr>\n",
              "  </thead>\n",
              "  <tbody>\n",
              "    <tr>\n",
              "      <th>0</th>\n",
              "      <td>P0836</td>\n",
              "      <td>C9QtWNpl</td>\n",
              "    </tr>\n",
              "    <tr>\n",
              "      <th>1</th>\n",
              "      <td>P0888</td>\n",
              "      <td>CPzIxnsQ</td>\n",
              "    </tr>\n",
              "    <tr>\n",
              "      <th>2</th>\n",
              "      <td>P0934</td>\n",
              "      <td>C1W6xPCp</td>\n",
              "    </tr>\n",
              "    <tr>\n",
              "      <th>3</th>\n",
              "      <td>P0616</td>\n",
              "      <td>CQirDy2k</td>\n",
              "    </tr>\n",
              "    <tr>\n",
              "      <th>4</th>\n",
              "      <td>P0165</td>\n",
              "      <td>C4tlnf7j</td>\n",
              "    </tr>\n",
              "    <tr>\n",
              "      <th>...</th>\n",
              "      <td>...</td>\n",
              "      <td>...</td>\n",
              "    </tr>\n",
              "    <tr>\n",
              "      <th>991</th>\n",
              "      <td>P0345</td>\n",
              "      <td>CwKUR8PT</td>\n",
              "    </tr>\n",
              "    <tr>\n",
              "      <th>992</th>\n",
              "      <td>P0386</td>\n",
              "      <td>CTUFCl7y</td>\n",
              "    </tr>\n",
              "    <tr>\n",
              "      <th>993</th>\n",
              "      <td>P0658</td>\n",
              "      <td>Cka5fx4V</td>\n",
              "    </tr>\n",
              "    <tr>\n",
              "      <th>994</th>\n",
              "      <td>P0890</td>\n",
              "      <td>CkzOBbqo</td>\n",
              "    </tr>\n",
              "    <tr>\n",
              "      <th>995</th>\n",
              "      <td>P0085</td>\n",
              "      <td>Ca5zmUTY</td>\n",
              "    </tr>\n",
              "  </tbody>\n",
              "</table>\n",
              "<p>996 rows × 2 columns</p>\n",
              "</div>"
            ],
            "text/plain": [
              "      人员编号       特征码\n",
              "0    P0836  C9QtWNpl\n",
              "1    P0888  CPzIxnsQ\n",
              "2    P0934  C1W6xPCp\n",
              "3    P0616  CQirDy2k\n",
              "4    P0165  C4tlnf7j\n",
              "..     ...       ...\n",
              "991  P0345  CwKUR8PT\n",
              "992  P0386  CTUFCl7y\n",
              "993  P0658  Cka5fx4V\n",
              "994  P0890  CkzOBbqo\n",
              "995  P0085  Ca5zmUTY\n",
              "\n",
              "[996 rows x 2 columns]"
            ]
          },
          "execution_count": 31,
          "metadata": {},
          "output_type": "execute_result"
        }
      ]
    },
    {
      "cell_type": "code",
      "metadata": {
        "id": "GfUhsR326kbv"
      },
      "source": [
        "# submit = pd.read_csv('/content/output_add_speed.csv')\n",
        "df_se = pd.read_csv('/content/output_11_15.csv')"
      ],
      "id": "GfUhsR326kbv",
      "execution_count": null,
      "outputs": []
    },
    {
      "cell_type": "code",
      "metadata": {
        "colab": {
          "base_uri": "https://localhost:8080/"
        },
        "id": "89OnhkHj3qPZ",
        "outputId": "6e6e1be5-6548-4ffb-9278-55bb00d6a40d"
      },
      "source": [
        "num = 0\n",
        "ansa = {}\n",
        "ansb = {}\n",
        "ansc = {}\n",
        "for pi,pj,i,j in zip(df_best['人员编号'],submit['人员编号'],df_best['特征码'],submit['特征码']):\n",
        "  ansa[pi] = i \n",
        "  ansb[pj] = j\n",
        "for p,c in zip(df_se['人员编号'],df_se['特征码']):\n",
        "  ansc[p] = c\n",
        "\n",
        "p_ans = []\n",
        "c_ans = []\n",
        "all_diff = 0\n",
        "for p in df_best['人员编号']:\n",
        "  res = [ansa[p],ansb[p],ansc[p]]\n",
        "  p_ans.append(p)\n",
        "  rs = ansa[p]\n",
        "  if ansa[p] != ansb[p] and ansa[p]!=ansc[p] and ansb[p]!=ansc[p]:\n",
        "    rs = ansa[p] \n",
        "    all_diff += 1\n",
        "  else:\n",
        "    rs = max(res,key = res.count)\n",
        "  c_ans.append(rs)\n",
        "  if rs != ansa[p]:\n",
        "    num +=1\n",
        "    print(p,ansa[p],rs)\n",
        "print(num,all_diff)"
      ],
      "id": "89OnhkHj3qPZ",
      "execution_count": null,
      "outputs": [
        {
          "name": "stdout",
          "output_type": "stream",
          "text": [
            "P0927 C8nzP3gk CgAb8Ju4\n",
            "P0806 COCNolEG C6jbQuYe\n",
            "P0716 CxTrHqkl CSWFZ0LE\n",
            "P0045 CEiaSN40 CL0ldUEC\n",
            "P0418 CTxerhkd CWTVgGN1\n",
            "P0306 Co4s6C0S CzaQW9xh\n",
            "P0993 Cx3vlupn CGx3tXIi\n",
            "P0876 CutQIJ16 CLS8EYq6\n",
            "P0719 C5IS9sfA ChVKjnxW\n",
            "P0287 ClMCfKV9 CxEf9bD3\n",
            "P0182 CzKx4PUM CKrU67BY\n",
            "P0020 CfEF4G1y CnMdqKxh\n",
            "P0825 C5kc84PL Cz6edN1s\n",
            "P0047 CizRADpn CvVN5qmw\n",
            "P0494 C3ApMdE7 CGTSqfBz\n",
            "P0874 CWji8wC9 CbNhD8xm\n",
            "P0336 CoMxThPm C8dBCp3D\n",
            "17 2\n"
          ]
        }
      ]
    },
    {
      "cell_type": "code",
      "metadata": {
        "id": "oXeRSjnF9i-E"
      },
      "source": [
        "sbmit = pd.DataFrame({'人员编号':p_ans,\n",
        "                       '特征码':c_ans})\n",
        "sbmit.to_csv('submit_2.csv',index=False)"
      ],
      "id": "oXeRSjnF9i-E",
      "execution_count": null,
      "outputs": []
    },
    {
      "cell_type": "code",
      "metadata": {
        "colab": {
          "base_uri": "https://localhost:8080/",
          "height": 35
        },
        "id": "GHy3zfK-NVAZ",
        "outputId": "f2d81398-fbf2-48b0-e9f8-39f40e5a767d"
      },
      "source": [
        "lightgbm.__version__ \n"
      ],
      "id": "GHy3zfK-NVAZ",
      "execution_count": 21,
      "outputs": [
        {
          "output_type": "execute_result",
          "data": {
            "application/vnd.google.colaboratory.intrinsic+json": {
              "type": "string"
            },
            "text/plain": [
              "'2.2.3'"
            ]
          },
          "metadata": {},
          "execution_count": 21
        }
      ]
=======
     "data": {
      "text/plain": [
       "Index(['c_id', 'p_id', 'pp_number', 'average_det_time', 'cid_number',\n",
       "       'unique_pp_number', 'unique_average_det_time', 'unique_lcs', 'p_number',\n",
       "       'pid_number', 'p_speed', 'c_speed', 'dis_speed', 'Min_time'],\n",
       "      dtype='object')"
      ]
     },
     "execution_count": 20,
     "metadata": {},
     "output_type": "execute_result"
>>>>>>> Stashed changes
    }
   ],
   "source": [
    "test_data.columns"
   ]
  },
  {
   "cell_type": "code",
   "execution_count": null,
   "id": "e3074003",
   "metadata": {
    "id": "e3074003"
   },
   "outputs": [],
   "source": []
  }
 ],
 "metadata": {
  "colab": {
   "collapsed_sections": [],
   "include_colab_link": true,
   "name": "Model.ipynb",
   "provenance": []
  },
  "kernelspec": {
   "display_name": "Python 3",
   "language": "python",
   "name": "python3"
  },
  "language_info": {
   "codemirror_mode": {
    "name": "ipython",
    "version": 3
   },
   "file_extension": ".py",
   "mimetype": "text/x-python",
   "name": "python",
   "nbconvert_exporter": "python",
   "pygments_lexer": "ipython3",
   "version": "3.8.8"
  }
 },
 "nbformat": 4,
 "nbformat_minor": 5
}
